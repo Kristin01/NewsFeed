{
 "cells": [
  {
   "cell_type": "code",
   "execution_count": 1,
   "id": "b61a4651",
   "metadata": {},
   "outputs": [
    {
     "name": "stdout",
     "output_type": "stream",
     "text": [
      "--2021-05-21 04:59:43--  https://s3.amazonaws.com/dl4j-distribution/GoogleNews-vectors-negative300.bin.gz\n",
      "Resolving s3.amazonaws.com (s3.amazonaws.com)... 52.217.81.254\n",
      "Connecting to s3.amazonaws.com (s3.amazonaws.com)|52.217.81.254|:443... connected.\n",
      "HTTP request sent, awaiting response... 200 OK\n",
      "Length: 1647046227 (1.5G) [application/x-gzip]\n",
      "Saving to: ‘GoogleNews-vectors-negative300.bin.gz’\n",
      "\n",
      "GoogleNews-vectors- 100%[===================>]   1.53G  62.8MB/s    in 24s     \n",
      "\n",
      "2021-05-21 05:00:06 (66.5 MB/s) - ‘GoogleNews-vectors-negative300.bin.gz’ saved [1647046227/1647046227]\n",
      "\n"
     ]
    }
   ],
   "source": [
    "!wget -c \"https://s3.amazonaws.com/dl4j-distribution/GoogleNews-vectors-negative300.bin.gz\""
   ]
  },
  {
   "cell_type": "code",
   "execution_count": 2,
   "id": "0c74b682",
   "metadata": {},
   "outputs": [],
   "source": [
    "!gzip -d GoogleNews-vectors-negative300.bin.gz"
   ]
  },
  {
   "cell_type": "code",
   "execution_count": 3,
   "id": "50283418",
   "metadata": {},
   "outputs": [
    {
     "name": "stdout",
     "output_type": "stream",
     "text": [
      "GoogleNews-vectors-negative300.bin  lost+found\tsetup-aws.ipynb\r\n"
     ]
    }
   ],
   "source": [
    "!ls"
   ]
  },
  {
   "cell_type": "code",
   "execution_count": 4,
   "id": "69f3be04",
   "metadata": {},
   "outputs": [
    {
     "name": "stdout",
     "output_type": "stream",
     "text": [
      "Cloning into 'news_recommend'...\n",
      "remote: Enumerating objects: 121, done.\u001b[K\n",
      "remote: Counting objects: 100% (121/121), done.\u001b[K\n",
      "remote: Compressing objects: 100% (79/79), done.\u001b[K\n",
      "remote: Total 121 (delta 75), reused 82 (delta 40), pack-reused 0\u001b[K\n",
      "Receiving objects: 100% (121/121), 794.76 KiB | 36.13 MiB/s, done.\n",
      "Resolving deltas: 100% (75/75), done.\n"
     ]
    }
   ],
   "source": [
    "!git clone https://github.com/Kristin01/news_recommend.git"
   ]
  },
  {
   "cell_type": "code",
   "execution_count": 5,
   "id": "93efc8ef",
   "metadata": {},
   "outputs": [],
   "source": [
    "!mv GoogleNews-vectors-negative300.bin news_recommend/train/"
   ]
  },
  {
   "cell_type": "code",
   "execution_count": 6,
   "id": "67663007",
   "metadata": {},
   "outputs": [
    {
     "name": "stdout",
     "output_type": "stream",
     "text": [
      "Requirement already satisfied: click==7.1.2 in /home/ec2-user/anaconda3/envs/pytorch_p36/lib/python3.6/site-packages (from -r requirements.txt (line 1)) (7.1.2)\n",
      "Requirement already satisfied: Flask==1.1.2 in /home/ec2-user/anaconda3/envs/pytorch_p36/lib/python3.6/site-packages (from -r requirements.txt (line 2)) (1.1.2)\n",
      "Collecting gensim==3.6.0\n",
      "  Downloading gensim-3.6.0-cp36-cp36m-manylinux1_x86_64.whl (23.6 MB)\n",
      "\u001b[K     |████████████████████████████████| 23.6 MB 25.5 MB/s eta 0:00:01\n",
      "\u001b[?25hRequirement already satisfied: itsdangerous==1.1.0 in /home/ec2-user/anaconda3/envs/pytorch_p36/lib/python3.6/site-packages (from -r requirements.txt (line 4)) (1.1.0)\n",
      "Requirement already satisfied: Jinja2==2.11.3 in /home/ec2-user/anaconda3/envs/pytorch_p36/lib/python3.6/site-packages (from -r requirements.txt (line 5)) (2.11.3)\n",
      "Requirement already satisfied: MarkupSafe==1.1.1 in /home/ec2-user/anaconda3/envs/pytorch_p36/lib/python3.6/site-packages (from -r requirements.txt (line 6)) (1.1.1)\n",
      "Collecting scipy==1.4.1\n",
      "  Downloading scipy-1.4.1-cp36-cp36m-manylinux1_x86_64.whl (26.1 MB)\n",
      "\u001b[K     |████████████████████████████████| 26.1 MB 67.8 MB/s eta 0:00:01     |██████████████████████▉         | 18.6 MB 67.8 MB/s eta 0:00:01\n",
      "\u001b[?25hRequirement already satisfied: Werkzeug==1.0.1 in /home/ec2-user/anaconda3/envs/pytorch_p36/lib/python3.6/site-packages (from -r requirements.txt (line 8)) (1.0.1)\n",
      "Collecting redis==3.4.1\n",
      "  Downloading redis-3.4.1-py2.py3-none-any.whl (71 kB)\n",
      "\u001b[K     |████████████████████████████████| 71 kB 13.3 MB/s eta 0:00:01\n",
      "\u001b[?25hCollecting rq==1.2.2\n",
      "  Downloading rq-1.2.2-py2.py3-none-any.whl (58 kB)\n",
      "\u001b[K     |████████████████████████████████| 58 kB 1.3 MB/s  eta 0:00:01\n",
      "\u001b[?25hRequirement already satisfied: pandas==1.1.5 in /home/ec2-user/anaconda3/envs/pytorch_p36/lib/python3.6/site-packages (from -r requirements.txt (line 11)) (1.1.5)\n",
      "Collecting nltk==3.6.2\n",
      "  Downloading nltk-3.6.2-py3-none-any.whl (1.5 MB)\n",
      "\u001b[K     |████████████████████████████████| 1.5 MB 84.2 MB/s eta 0:00:01\n",
      "\u001b[?25hRequirement already satisfied: seaborn==0.11.1 in /home/ec2-user/anaconda3/envs/pytorch_p36/lib/python3.6/site-packages (from -r requirements.txt (line 13)) (0.11.1)\n",
      "Collecting boto3==1.17.75\n",
      "  Downloading boto3-1.17.75-py2.py3-none-any.whl (131 kB)\n",
      "\u001b[K     |████████████████████████████████| 131 kB 62.1 MB/s eta 0:00:01\n",
      "\u001b[?25hCollecting sagemaker==2.41.0\n",
      "  Downloading sagemaker-2.41.0.tar.gz (412 kB)\n",
      "\u001b[K     |████████████████████████████████| 412 kB 57.6 MB/s eta 0:00:01\n",
      "\u001b[?25hCollecting botocore<1.21.0,>=1.20.75\n",
      "  Downloading botocore-1.20.77-py2.py3-none-any.whl (7.5 MB)\n",
      "\u001b[K     |████████████████████████████████| 7.5 MB 55.3 MB/s eta 0:00:01\n",
      "\u001b[?25hRequirement already satisfied: s3transfer<0.5.0,>=0.4.0 in /home/ec2-user/anaconda3/envs/pytorch_p36/lib/python3.6/site-packages (from boto3==1.17.75->-r requirements.txt (line 14)) (0.4.2)\n",
      "Requirement already satisfied: jmespath<1.0.0,>=0.7.1 in /home/ec2-user/anaconda3/envs/pytorch_p36/lib/python3.6/site-packages (from boto3==1.17.75->-r requirements.txt (line 14)) (0.10.0)\n",
      "Requirement already satisfied: smart-open>=1.2.1 in /home/ec2-user/anaconda3/envs/pytorch_p36/lib/python3.6/site-packages (from gensim==3.6.0->-r requirements.txt (line 3)) (2.2.1)\n",
      "Requirement already satisfied: six>=1.5.0 in /home/ec2-user/anaconda3/envs/pytorch_p36/lib/python3.6/site-packages (from gensim==3.6.0->-r requirements.txt (line 3)) (1.15.0)\n",
      "Requirement already satisfied: numpy>=1.11.3 in /home/ec2-user/anaconda3/envs/pytorch_p36/lib/python3.6/site-packages (from gensim==3.6.0->-r requirements.txt (line 3)) (1.19.5)\n",
      "Requirement already satisfied: tqdm in /home/ec2-user/anaconda3/envs/pytorch_p36/lib/python3.6/site-packages (from nltk==3.6.2->-r requirements.txt (line 12)) (4.57.0)\n",
      "Requirement already satisfied: regex in /home/ec2-user/anaconda3/envs/pytorch_p36/lib/python3.6/site-packages (from nltk==3.6.2->-r requirements.txt (line 12)) (2020.11.13)\n",
      "Requirement already satisfied: joblib in /home/ec2-user/anaconda3/envs/pytorch_p36/lib/python3.6/site-packages (from nltk==3.6.2->-r requirements.txt (line 12)) (1.0.1)\n",
      "Requirement already satisfied: python-dateutil>=2.7.3 in /home/ec2-user/anaconda3/envs/pytorch_p36/lib/python3.6/site-packages (from pandas==1.1.5->-r requirements.txt (line 11)) (2.8.1)\n",
      "Requirement already satisfied: pytz>=2017.2 in /home/ec2-user/anaconda3/envs/pytorch_p36/lib/python3.6/site-packages (from pandas==1.1.5->-r requirements.txt (line 11)) (2021.1)\n",
      "Requirement already satisfied: attrs in /home/ec2-user/anaconda3/envs/pytorch_p36/lib/python3.6/site-packages (from sagemaker==2.41.0->-r requirements.txt (line 15)) (20.3.0)\n",
      "Requirement already satisfied: google-pasta in /home/ec2-user/anaconda3/envs/pytorch_p36/lib/python3.6/site-packages (from sagemaker==2.41.0->-r requirements.txt (line 15)) (0.2.0)\n",
      "Requirement already satisfied: protobuf>=3.1 in /home/ec2-user/anaconda3/envs/pytorch_p36/lib/python3.6/site-packages (from sagemaker==2.41.0->-r requirements.txt (line 15)) (3.15.2)\n",
      "Requirement already satisfied: protobuf3-to-dict>=0.1.5 in /home/ec2-user/anaconda3/envs/pytorch_p36/lib/python3.6/site-packages (from sagemaker==2.41.0->-r requirements.txt (line 15)) (0.1.5)\n",
      "Requirement already satisfied: smdebug_rulesconfig==1.0.1 in /home/ec2-user/anaconda3/envs/pytorch_p36/lib/python3.6/site-packages (from sagemaker==2.41.0->-r requirements.txt (line 15)) (1.0.1)\n",
      "Requirement already satisfied: importlib-metadata>=1.4.0 in /home/ec2-user/anaconda3/envs/pytorch_p36/lib/python3.6/site-packages (from sagemaker==2.41.0->-r requirements.txt (line 15)) (3.7.0)\n",
      "Requirement already satisfied: packaging>=20.0 in /home/ec2-user/anaconda3/envs/pytorch_p36/lib/python3.6/site-packages (from sagemaker==2.41.0->-r requirements.txt (line 15)) (20.9)\n",
      "Requirement already satisfied: pathos in /home/ec2-user/anaconda3/envs/pytorch_p36/lib/python3.6/site-packages (from sagemaker==2.41.0->-r requirements.txt (line 15)) (0.2.7)\n",
      "Requirement already satisfied: matplotlib>=2.2 in /home/ec2-user/anaconda3/envs/pytorch_p36/lib/python3.6/site-packages (from seaborn==0.11.1->-r requirements.txt (line 13)) (3.3.4)\n",
      "Requirement already satisfied: urllib3<1.27,>=1.25.4 in /home/ec2-user/anaconda3/envs/pytorch_p36/lib/python3.6/site-packages (from botocore<1.21.0,>=1.20.75->boto3==1.17.75->-r requirements.txt (line 14)) (1.26.4)\n",
      "Requirement already satisfied: zipp>=0.5 in /home/ec2-user/anaconda3/envs/pytorch_p36/lib/python3.6/site-packages (from importlib-metadata>=1.4.0->sagemaker==2.41.0->-r requirements.txt (line 15)) (3.4.0)\n",
      "Requirement already satisfied: typing-extensions>=3.6.4 in /home/ec2-user/anaconda3/envs/pytorch_p36/lib/python3.6/site-packages (from importlib-metadata>=1.4.0->sagemaker==2.41.0->-r requirements.txt (line 15)) (3.7.4.3)\n",
      "Requirement already satisfied: kiwisolver>=1.0.1 in /home/ec2-user/anaconda3/envs/pytorch_p36/lib/python3.6/site-packages (from matplotlib>=2.2->seaborn==0.11.1->-r requirements.txt (line 13)) (1.3.1)\n",
      "Requirement already satisfied: pyparsing!=2.0.4,!=2.1.2,!=2.1.6,>=2.0.3 in /home/ec2-user/anaconda3/envs/pytorch_p36/lib/python3.6/site-packages (from matplotlib>=2.2->seaborn==0.11.1->-r requirements.txt (line 13)) (2.4.7)\n",
      "Requirement already satisfied: cycler>=0.10 in /home/ec2-user/anaconda3/envs/pytorch_p36/lib/python3.6/site-packages (from matplotlib>=2.2->seaborn==0.11.1->-r requirements.txt (line 13)) (0.10.0)\n",
      "Requirement already satisfied: pillow>=6.2.0 in /home/ec2-user/anaconda3/envs/pytorch_p36/lib/python3.6/site-packages (from matplotlib>=2.2->seaborn==0.11.1->-r requirements.txt (line 13)) (8.1.0)\n",
      "Requirement already satisfied: requests in /home/ec2-user/anaconda3/envs/pytorch_p36/lib/python3.6/site-packages (from smart-open>=1.2.1->gensim==3.6.0->-r requirements.txt (line 3)) (2.25.1)\n",
      "Requirement already satisfied: dill>=0.3.3 in /home/ec2-user/anaconda3/envs/pytorch_p36/lib/python3.6/site-packages (from pathos->sagemaker==2.41.0->-r requirements.txt (line 15)) (0.3.3)\n",
      "Requirement already satisfied: multiprocess>=0.70.11 in /home/ec2-user/anaconda3/envs/pytorch_p36/lib/python3.6/site-packages (from pathos->sagemaker==2.41.0->-r requirements.txt (line 15)) (0.70.11.1)\n",
      "Requirement already satisfied: ppft>=1.6.6.3 in /home/ec2-user/anaconda3/envs/pytorch_p36/lib/python3.6/site-packages (from pathos->sagemaker==2.41.0->-r requirements.txt (line 15)) (1.6.6.3)\n",
      "Requirement already satisfied: pox>=0.2.9 in /home/ec2-user/anaconda3/envs/pytorch_p36/lib/python3.6/site-packages (from pathos->sagemaker==2.41.0->-r requirements.txt (line 15)) (0.2.9)\n",
      "Requirement already satisfied: idna<3,>=2.5 in /home/ec2-user/anaconda3/envs/pytorch_p36/lib/python3.6/site-packages (from requests->smart-open>=1.2.1->gensim==3.6.0->-r requirements.txt (line 3)) (2.10)\n",
      "Requirement already satisfied: certifi>=2017.4.17 in /home/ec2-user/anaconda3/envs/pytorch_p36/lib/python3.6/site-packages (from requests->smart-open>=1.2.1->gensim==3.6.0->-r requirements.txt (line 3)) (2020.12.5)\n",
      "Requirement already satisfied: chardet<5,>=3.0.2 in /home/ec2-user/anaconda3/envs/pytorch_p36/lib/python3.6/site-packages (from requests->smart-open>=1.2.1->gensim==3.6.0->-r requirements.txt (line 3)) (3.0.4)\n",
      "Building wheels for collected packages: sagemaker\n",
      "  Building wheel for sagemaker (setup.py) ... \u001b[?25ldone\n",
      "\u001b[?25h  Created wheel for sagemaker: filename=sagemaker-2.41.0-py2.py3-none-any.whl size=578903 sha256=75fd01b70b213157fc4fb7cef929e2e3a3cfb23ab04be30b2e1697cd6d873943\n",
      "  Stored in directory: /home/ec2-user/.cache/pip/wheels/2a/7b/2b/ed8581237f4eee110d1479919514d76f00a9fb9fe9c1feacde\n",
      "Successfully built sagemaker\n",
      "Installing collected packages: botocore, boto3, scipy, redis, sagemaker, rq, nltk, gensim\n",
      "  Attempting uninstall: botocore\n",
      "    Found existing installation: botocore 1.20.72\n",
      "    Uninstalling botocore-1.20.72:\n",
      "      Successfully uninstalled botocore-1.20.72\n",
      "  Attempting uninstall: boto3\n",
      "    Found existing installation: boto3 1.17.72\n",
      "    Uninstalling boto3-1.17.72:\n",
      "      Successfully uninstalled boto3-1.17.72\n",
      "  Attempting uninstall: scipy\n",
      "    Found existing installation: scipy 1.5.3\n",
      "    Uninstalling scipy-1.5.3:\n",
      "      Successfully uninstalled scipy-1.5.3\n",
      "  Attempting uninstall: sagemaker\n",
      "    Found existing installation: sagemaker 2.40.0\n",
      "    Uninstalling sagemaker-2.40.0:\n",
      "      Successfully uninstalled sagemaker-2.40.0\n",
      "  Attempting uninstall: nltk\n",
      "    Found existing installation: nltk 3.4.4\n",
      "    Uninstalling nltk-3.4.4:\n",
      "      Successfully uninstalled nltk-3.4.4\n",
      "\u001b[31mERROR: pip's dependency resolver does not currently take into account all the packages that are installed. This behaviour is the source of the following dependency conflicts.\n",
      "fastai 1.0.61 requires nvidia-ml-py3, which is not installed.\n",
      "awscli 1.19.72 requires botocore==1.20.72, but you have botocore 1.20.77 which is incompatible.\n",
      "aiobotocore 1.3.0 requires botocore<1.20.50,>=1.20.49, but you have botocore 1.20.77 which is incompatible.\u001b[0m\n",
      "Successfully installed boto3-1.17.75 botocore-1.20.77 gensim-3.6.0 nltk-3.6.2 redis-3.4.1 rq-1.2.2 sagemaker-2.41.0 scipy-1.4.1\n"
     ]
    }
   ],
   "source": [
    "!cd news_recommend && pip install -r requirements.txt"
   ]
  },
  {
   "cell_type": "code",
   "execution_count": null,
   "id": "ee1a3287",
   "metadata": {},
   "outputs": [],
   "source": []
  }
 ],
 "metadata": {
  "kernelspec": {
   "display_name": "conda_pytorch_p36",
   "language": "python",
   "name": "conda_pytorch_p36"
  },
  "language_info": {
   "codemirror_mode": {
    "name": "ipython",
    "version": 3
   },
   "file_extension": ".py",
   "mimetype": "text/x-python",
   "name": "python",
   "nbconvert_exporter": "python",
   "pygments_lexer": "ipython3",
   "version": "3.6.13"
  }
 },
 "nbformat": 4,
 "nbformat_minor": 5
}
